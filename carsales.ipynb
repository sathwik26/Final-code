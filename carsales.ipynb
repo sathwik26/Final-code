{
  "nbformat": 4,
  "nbformat_minor": 0,
  "metadata": {
    "colab": {
      "provenance": []
    },
    "kernelspec": {
      "name": "python3",
      "display_name": "Python 3"
    },
    "language_info": {
      "name": "python"
    }
  },
  "cells": [
    {
      "cell_type": "code",
      "execution_count": null,
      "metadata": {
        "id": "QUusD3LFMIk3",
        "colab": {
          "base_uri": "https://localhost:8080/"
        },
        "outputId": "0a914bf5-f318-4ea0-a777-09eeb6e125f6"
      },
      "outputs": [
        {
          "output_type": "stream",
          "name": "stdout",
          "text": [
            "     Manufacturer  __year_resale_value  Vehicle_type  Price_in_thousands  \\\n",
            "0           False                False         False               False   \n",
            "1           False                False         False               False   \n",
            "2           False                False         False                True   \n",
            "3           False                False         False               False   \n",
            "4           False                False         False               False   \n",
            "..            ...                  ...           ...                 ...   \n",
            "152         False                 True         False               False   \n",
            "153         False                 True         False               False   \n",
            "154         False                 True         False               False   \n",
            "155         False                 True         False               False   \n",
            "156         False                 True         False               False   \n",
            "\n",
            "     Engine_size  Horsepower  Wheelbase  Width  Length  Curb_weight  \\\n",
            "0          False       False      False  False   False        False   \n",
            "1          False       False      False  False   False        False   \n",
            "2          False       False      False  False   False        False   \n",
            "3          False       False      False  False   False        False   \n",
            "4          False       False      False  False   False        False   \n",
            "..           ...         ...        ...    ...     ...          ...   \n",
            "152        False       False      False  False   False        False   \n",
            "153        False       False      False  False   False        False   \n",
            "154        False       False      False  False   False        False   \n",
            "155        False       False      False  False   False        False   \n",
            "156        False       False      False  False   False        False   \n",
            "\n",
            "     Fuel_capacity  Fuel_efficiency  Power_perf_factor  Latest_Launch  \\\n",
            "0            False            False              False          False   \n",
            "1            False            False              False          False   \n",
            "2            False            False               True          False   \n",
            "3            False            False              False          False   \n",
            "4            False            False              False          False   \n",
            "..             ...              ...                ...            ...   \n",
            "152          False            False              False          False   \n",
            "153          False            False              False          False   \n",
            "154          False            False              False          False   \n",
            "155          False            False              False          False   \n",
            "156          False            False              False          False   \n",
            "\n",
            "     Sales_in_thousands  \n",
            "0                 False  \n",
            "1                 False  \n",
            "2                 False  \n",
            "3                 False  \n",
            "4                 False  \n",
            "..                  ...  \n",
            "152               False  \n",
            "153               False  \n",
            "154               False  \n",
            "155               False  \n",
            "156               False  \n",
            "\n",
            "[157 rows x 15 columns]\n"
          ]
        }
      ],
      "source": [
        "import pandas as pd\n",
        "import numpy as np\n",
        "data=pd.read_csv('/content/carsaleses.csv')\n",
        "print(data.isnull())\n",
        "data=data.fillna(0)"
      ]
    },
    {
      "cell_type": "code",
      "source": [
        "x=data.iloc[:,0:13]\n",
        "y=data.iloc[:,14:15]\n",
        "print(x,'\\n',y)"
      ],
      "metadata": {
        "colab": {
          "base_uri": "https://localhost:8080/"
        },
        "id": "pYzBKxjTqEGe",
        "outputId": "ed309e6b-2dc6-4597-e02b-d8c87a288382"
      },
      "execution_count": null,
      "outputs": [
        {
          "output_type": "stream",
          "name": "stdout",
          "text": [
            "     Manufacturer  __year_resale_value  Vehicle_type  Price_in_thousands  \\\n",
            "0               1               16.360             1               21.50   \n",
            "1               1               19.875             1               28.40   \n",
            "2               1               18.225             1                0.00   \n",
            "3               1               29.725             1               42.00   \n",
            "4               2               22.255             1               23.99   \n",
            "..            ...                  ...           ...                 ...   \n",
            "152            29                0.000             1               24.40   \n",
            "153            29                0.000             1               27.50   \n",
            "154            29                0.000             1               28.80   \n",
            "155            29                0.000             1               45.50   \n",
            "156            29                0.000             1               36.00   \n",
            "\n",
            "     Engine_size  Horsepower  Wheelbase  Width  Length  Curb_weight  \\\n",
            "0            1.8       140.0      101.2   67.3   172.4        2.639   \n",
            "1            3.2       225.0      108.1   70.3   192.9        3.517   \n",
            "2            3.2       225.0      106.9   70.6   192.0        3.470   \n",
            "3            3.5       210.0      114.6   71.4   196.6        3.850   \n",
            "4            1.8       150.0      102.6   68.2   178.0        2.998   \n",
            "..           ...         ...        ...    ...     ...          ...   \n",
            "152          1.9       160.0      100.5   67.6   176.6        3.042   \n",
            "153          2.4       168.0      104.9   69.3   185.9        3.208   \n",
            "154          2.4       168.0      104.9   69.3   186.2        3.259   \n",
            "155          2.3       236.0      104.9   71.5   185.7        3.601   \n",
            "156          2.9       201.0      109.9   72.1   189.8        3.600   \n",
            "\n",
            "     Fuel_capacity  Fuel_efficiency  Power_perf_factor  \n",
            "0             13.2             28.0          58.280150  \n",
            "1             17.2             25.0          91.370778  \n",
            "2             17.2             26.0           0.000000  \n",
            "3             18.0             22.0          91.389779  \n",
            "4             16.4             27.0          62.777639  \n",
            "..             ...              ...                ...  \n",
            "152           15.8             25.0          66.498812  \n",
            "153           17.9             25.0          70.654495  \n",
            "154           17.9             25.0          71.155978  \n",
            "155           18.5             23.0         101.623357  \n",
            "156           21.1             24.0          85.735655  \n",
            "\n",
            "[157 rows x 13 columns] \n",
            "      Sales_in_thousands\n",
            "0                16.919\n",
            "1                39.384\n",
            "2                14.114\n",
            "3                 8.588\n",
            "4                20.397\n",
            "..                  ...\n",
            "152               3.545\n",
            "153              15.245\n",
            "154              17.531\n",
            "155               3.493\n",
            "156              18.969\n",
            "\n",
            "[157 rows x 1 columns]\n"
          ]
        }
      ]
    },
    {
      "cell_type": "code",
      "source": [
        "from sklearn.model_selection import train_test_split\n",
        "x_train,x_test,y_train,y_test=train_test_split(x,y,test_size=0.3,random_state=True)\n",
        "print(x_train.shape)\n",
        "print(y_train.shape)\n",
        "print(x_test.shape)\n",
        "print(y_test.shape)"
      ],
      "metadata": {
        "colab": {
          "base_uri": "https://localhost:8080/"
        },
        "id": "vQNvGsSYrnnX",
        "outputId": "eb536d44-0a02-4734-a0b2-46a8119ce174"
      },
      "execution_count": null,
      "outputs": [
        {
          "output_type": "stream",
          "name": "stdout",
          "text": [
            "(109, 13)\n",
            "(109, 1)\n",
            "(48, 13)\n",
            "(48, 1)\n"
          ]
        }
      ]
    },
    {
      "cell_type": "code",
      "source": [
        "from sklearn.linear_model import Ridge \n",
        "from sklearn.metrics import mean_squared_error,mean_absolute_error,r2_score \n",
        "rr= Ridge(alpha=0.01)\n",
        "rr.fit(x_train, y_train) \n",
        "pred_train_rr= rr.predict(x_train)\n",
        "print(\"mse=\",mean_squared_error(y_train,pred_train_rr))\n",
        "print(\"mae=\",mean_absolute_error(y_train,pred_train_rr))\n",
        "print(\"rmse=\",np.sqrt(mean_squared_error(y_train,pred_train_rr)))\n",
        "print(r2_score(y_train, pred_train_rr))"
      ],
      "metadata": {
        "colab": {
          "base_uri": "https://localhost:8080/"
        },
        "id": "QIIvgoj9nexE",
        "outputId": "b4daa744-04c2-434f-f582-7eb6a182a44a"
      },
      "execution_count": null,
      "outputs": [
        {
          "output_type": "stream",
          "name": "stdout",
          "text": [
            "mse= 2419.6979788722842\n",
            "mae= 33.40008365609986\n",
            "rmse= 49.190425682974976\n",
            "0.23181229794249236\n"
          ]
        }
      ]
    },
    {
      "cell_type": "code",
      "source": [
        "import numpy as np\n",
        "from sklearn.linear_model import Lasso\n",
        "model_lasso= Lasso(alpha=0.01)\n",
        "model_lasso.fit(x,y) \n",
        "pred_train_lasso= model_lasso.predict(x_test)\n",
        "print(\"mse=\",mean_squared_error(y_test,pred_train_lasso))\n",
        "print(\"mae=\",mean_absolute_error(y_train,pred_train_rr))\n",
        "print(\"rmse=\",np.sqrt(mean_squared_error(y_train,pred_train_rr)))"
      ],
      "metadata": {
        "colab": {
          "base_uri": "https://localhost:8080/"
        },
        "id": "3t1TaDfgn_RE",
        "outputId": "2fa8c072-4314-478a-e7b7-94c17e201f50"
      },
      "execution_count": null,
      "outputs": [
        {
          "output_type": "stream",
          "name": "stdout",
          "text": [
            "mse= 4597.7501004425385\n",
            "mae= 33.40008365609986\n",
            "rmse= 49.190425682974976\n"
          ]
        }
      ]
    },
    {
      "cell_type": "code",
      "source": [
        "from sklearn.linear_model import LinearRegression\n",
        "model=LinearRegression()\n",
        "model.fit(x,y)\n",
        "model=LinearRegression().fit(x,y)\n",
        "r_sq=model.score(x,y)\n",
        "print(\"coefficient of determination: \",r_sq)\n",
        "print(\"intercept: \",model.intercept_)\n",
        "print(\"coffecients: \",model.coef_)"
      ],
      "metadata": {
        "colab": {
          "base_uri": "https://localhost:8080/"
        },
        "id": "nZs8oosIwbbI",
        "outputId": "c6a8cdaf-ca7b-44a2-f316-31319c129caf"
      },
      "execution_count": null,
      "outputs": [
        {
          "output_type": "stream",
          "name": "stdout",
          "text": [
            "coefficient of determination:  0.3025081908252839\n",
            "intercept:  [15.14945688]\n",
            "coffecients:  [[-7.11901738e-01  5.64462022e-01 -2.57741184e+01 -1.17533735e+00\n",
            "   2.64099215e+01 -6.87335865e-01  3.97527729e+00 -3.06659471e+00\n",
            "  -2.76404372e-03 -1.34511876e+01 -3.23184357e+00 -7.83056353e-01\n",
            "   6.83785857e-01]]\n"
          ]
        }
      ]
    },
    {
      "cell_type": "code",
      "source": [
        "from sklearn import linear_model\n",
        "from sklearn.metrics import mean_squared_error,mean_absolute_error\n",
        "reg_all=linear_model.LinearRegression()\n",
        "reg_all.fit(x_train,y_train)\n",
        "y_pred=reg_all.predict(x_test)\n",
        "Rsquare=reg_all.score(x_test,y_test)\n",
        "print(\"Rsquare: \",Rsquare)\n",
        "print(\"Intercept: \",reg_all.intercept_)\n",
        "mae = mean_absolute_error(y_test,y_pred)\n",
        "print(\"mae: \",mae)\n",
        "rmse=np.sqrt(mean_squared_error(y_test,y_pred))\n",
        "print(\"rmse: \",rmse)\n",
        "mse=mean_squared_error(y_test,y_pred)\n",
        "print(\"mse:\",mse)"
      ],
      "metadata": {
        "colab": {
          "base_uri": "https://localhost:8080/"
        },
        "id": "uhIM2ijOmCUP",
        "outputId": "71dc033a-70e3-4fe6-eff6-4edd3b500b51"
      },
      "execution_count": null,
      "outputs": [
        {
          "output_type": "stream",
          "name": "stdout",
          "text": [
            "Rsquare:  0.25392459328240513\n",
            "Intercept:  [25.61940237]\n",
            "mae:  39.44143702982872\n",
            "rmse:  76.16595868473432\n",
            "mse: 5801.253262364655\n"
          ]
        }
      ]
    }
  ]
}